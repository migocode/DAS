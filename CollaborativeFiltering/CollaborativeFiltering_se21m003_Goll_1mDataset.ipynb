{
 "cells": [
  {
   "cell_type": "markdown",
   "metadata": {},
   "source": [
    "# Collaborative Filtering\n",
    "Source of code: https://github.com/sharmin2697/Movie-Recommender-System"
   ]
  },
  {
   "cell_type": "code",
   "execution_count": 1,
   "metadata": {},
   "outputs": [],
   "source": [
    "import pandas as pd\n",
    "import time\n",
    "import statistics\n",
    "from surprise import Reader\n",
    "from surprise import Dataset\n",
    "from surprise.model_selection import train_test_split\n",
    "from surprise import KNNWithMeans\n",
    "from surprise import CoClustering\n",
    "from surprise import accuracy\n",
    "from surprise.model_selection import train_test_split"
   ]
  },
  {
   "cell_type": "code",
   "execution_count": 2,
   "metadata": {
    "scrolled": true
   },
   "outputs": [
    {
     "data": {
      "text/html": [
       "<div>\n",
       "<style scoped>\n",
       "    .dataframe tbody tr th:only-of-type {\n",
       "        vertical-align: middle;\n",
       "    }\n",
       "\n",
       "    .dataframe tbody tr th {\n",
       "        vertical-align: top;\n",
       "    }\n",
       "\n",
       "    .dataframe thead th {\n",
       "        text-align: right;\n",
       "    }\n",
       "</style>\n",
       "<table border=\"1\" class=\"dataframe\">\n",
       "  <thead>\n",
       "    <tr style=\"text-align: right;\">\n",
       "      <th></th>\n",
       "      <th>userId</th>\n",
       "      <th>movieId</th>\n",
       "      <th>rating</th>\n",
       "    </tr>\n",
       "  </thead>\n",
       "  <tbody>\n",
       "    <tr>\n",
       "      <th>0</th>\n",
       "      <td>1</td>\n",
       "      <td>1193</td>\n",
       "      <td>5</td>\n",
       "    </tr>\n",
       "    <tr>\n",
       "      <th>1</th>\n",
       "      <td>1</td>\n",
       "      <td>661</td>\n",
       "      <td>3</td>\n",
       "    </tr>\n",
       "    <tr>\n",
       "      <th>2</th>\n",
       "      <td>1</td>\n",
       "      <td>914</td>\n",
       "      <td>3</td>\n",
       "    </tr>\n",
       "    <tr>\n",
       "      <th>3</th>\n",
       "      <td>1</td>\n",
       "      <td>3408</td>\n",
       "      <td>4</td>\n",
       "    </tr>\n",
       "    <tr>\n",
       "      <th>4</th>\n",
       "      <td>1</td>\n",
       "      <td>2355</td>\n",
       "      <td>5</td>\n",
       "    </tr>\n",
       "  </tbody>\n",
       "</table>\n",
       "</div>"
      ],
      "text/plain": [
       "   userId  movieId  rating\n",
       "0       1     1193       5\n",
       "1       1      661       3\n",
       "2       1      914       3\n",
       "3       1     3408       4\n",
       "4       1     2355       5"
      ]
     },
     "execution_count": 2,
     "metadata": {},
     "output_type": "execute_result"
    }
   ],
   "source": [
    "rating_index = [\"userId\", \"movieId\", \"rating\", \"timestamp\"]\n",
    "movie_index = [\"movieId\",\"title\",\"release_date\", \"video_release_dat\", \"IMDb_url\",\"unknown\", \"action\", \"adventure\", \"animation\", \"children\", \"comedy\", \"crime\", \"documentary\", \"drama\", \"fantasy\", \"film-noir\", \"horror\", \"musical\", \"mystery\", \"romance\", \"sci-fi\", \"thriller\", \"war\", \"western\"]\n",
    "ratings = pd.read_csv(r\"G:\\My Drive\\FH_Technikum\\MSC\\Semester_2_SS2022\\DAS\\Data\\ml-1m\\ratings.dat\", sep=\"::\", names=rating_index, engine=\"python\")\n",
    "movies = pd.read_csv(r\"G:\\My Drive\\FH_Technikum\\MSC\\Semester_2_SS2022\\DAS\\Data\\ml-1m\\movies.dat\", sep=\"::\", names=movie_index, engine=\"python\", encoding='latin-1')\n",
    "movies = movies.drop([\"release_date\", \"video_release_dat\", \"IMDb_url\",\"unknown\", \"action\", \"adventure\", \"animation\", \"children\", \"comedy\", \"crime\", \"documentary\", \"drama\", \"fantasy\", \"film-noir\", \"horror\", \"musical\", \"mystery\", \"romance\", \"sci-fi\", \"thriller\", \"war\", \"western\"], axis=1)\n",
    "ratings = ratings.drop([\"timestamp\"], axis=1)\n",
    "\n",
    "data = ratings\n",
    "\n",
    "data.head()"
   ]
  },
  {
   "cell_type": "code",
   "execution_count": 3,
   "metadata": {},
   "outputs": [
    {
     "data": {
      "text/plain": [
       "<surprise.dataset.DatasetAutoFolds at 0x2016e054d90>"
      ]
     },
     "execution_count": 3,
     "metadata": {},
     "output_type": "execute_result"
    }
   ],
   "source": [
    "reader = Reader(rating_scale=(1, 5))\n",
    "dataset = Dataset.load_from_df(data, reader)\n",
    "dataset"
   ]
  },
  {
   "cell_type": "markdown",
   "metadata": {},
   "source": [
    "## Items based collaborative filtering\n",
    "\n",
    "As a similarity measure I am chosing cosine. I use the K-nn algorithm taking into account the mean ratings of each user to counteract the differences in each users preference for maximum and minimum ratings (e.g. some user never give 5 out of 5)."
   ]
  },
  {
   "cell_type": "code",
   "execution_count": 4,
   "metadata": {},
   "outputs": [],
   "source": [
    "datasets = []\n",
    "\n",
    "datasets.append(train_test_split(dataset, test_size=0.2, random_state=547998))\n",
    "datasets.append(train_test_split(dataset, test_size=0.2))\n",
    "datasets.append(train_test_split(dataset, test_size=0.2))\n",
    "datasets.append(train_test_split(dataset, test_size=0.2))\n",
    "datasets.append(train_test_split(dataset, test_size=0.2))\n",
    "\n",
    "item_based = {'name': 'cosine',\n",
    "               'user_based': False} #defines if user-based filtering or items-based filtering should be used"
   ]
  },
  {
   "cell_type": "code",
   "execution_count": 5,
   "metadata": {
    "scrolled": true
   },
   "outputs": [
    {
     "name": "stdout",
     "output_type": "stream",
     "text": [
      "Computing the cosine similarity matrix...\n",
      "Done computing similarity matrix.\n",
      "MSE: 0.7988\n",
      "Computing the cosine similarity matrix...\n",
      "Done computing similarity matrix.\n",
      "MSE: 0.7957\n",
      "Computing the cosine similarity matrix...\n",
      "Done computing similarity matrix.\n",
      "MSE: 0.7989\n",
      "Computing the cosine similarity matrix...\n",
      "Done computing similarity matrix.\n",
      "MSE: 0.7955\n",
      "Computing the cosine similarity matrix...\n",
      "Done computing similarity matrix.\n",
      "MSE: 0.7976\n",
      "Execution time: 419.0358748435974 seconds\n",
      "Mean mse: 0.7973270654883968\n"
     ]
    }
   ],
   "source": [
    "mse_results = []\n",
    "\n",
    "start_time = time.time()\n",
    "\n",
    "for (trainset, testset) in datasets:\n",
    "    algo = KNNWithMeans(40, 1, item_based)\n",
    "\n",
    "    algo.fit(trainset)\n",
    "    predictions = algo.test(testset)\n",
    "\n",
    "    mse = accuracy.mse(predictions)\n",
    "    mse_results.append(mse)\n",
    "\n",
    "print(\"Execution time: \" + str(time.time() - start_time) + \" seconds\")\n",
    "print(\"Mean mse: \" + str(statistics.mean(mse_results)))"
   ]
  },
  {
   "cell_type": "markdown",
   "metadata": {},
   "source": [
    "MSE values are lower than with the small dataset. However, of course the execution time is rather long (nearly 7 minutes at one time). The values do not vary a lot between splits and kan be determined as stable."
   ]
  },
  {
   "cell_type": "markdown",
   "metadata": {},
   "source": [
    "## User based collaborative filtering\n",
    "\n",
    "I am using the same algorithm and smilarity measure as with items based collaborative filtering."
   ]
  },
  {
   "cell_type": "code",
   "execution_count": 6,
   "metadata": {},
   "outputs": [
    {
     "name": "stdout",
     "output_type": "stream",
     "text": [
      "Computing the cosine similarity matrix...\n",
      "Done computing similarity matrix.\n",
      "MSE: 0.8843\n",
      "Computing the cosine similarity matrix...\n",
      "Done computing similarity matrix.\n",
      "MSE: 0.8785\n",
      "Computing the cosine similarity matrix...\n",
      "Done computing similarity matrix.\n",
      "MSE: 0.8799\n",
      "Computing the cosine similarity matrix...\n",
      "Done computing similarity matrix.\n",
      "MSE: 0.8797\n",
      "Computing the cosine similarity matrix...\n",
      "Done computing similarity matrix.\n",
      "MSE: 0.8798\n",
      "Execution time: 908.3881342411041 seconds\n",
      "Mean mse: 0.8804642603023926\n"
     ]
    }
   ],
   "source": [
    "mse_results = []\n",
    "\n",
    "user_based = {'name': 'cosine',\n",
    "               'user_based': True} #defines if user-based filtering or items-based filtering should be used\n",
    "\n",
    "start_time = time.time()\n",
    "\n",
    "for (trainset, testset) in datasets:\n",
    "    algo = KNNWithMeans(40, 1, user_based)\n",
    "\n",
    "    algo.fit(trainset)\n",
    "    predictions = algo.test(testset)\n",
    "\n",
    "    mse = accuracy.mse(predictions)\n",
    "    mse_results.append(mse)\n",
    "    \n",
    "print(\"Execution time: \" + str(time.time() - start_time) + \" seconds\")\n",
    "print(\"Mean mse: \" + str(statistics.mean(mse_results)))"
   ]
  },
  {
   "cell_type": "markdown",
   "metadata": {},
   "source": [
    "As expected, the user based method takes a lot longer. In addition, it does not perform as accurate as the item based approach. Considering the massively increased time and the decreased accuracy, this approach is not optimal."
   ]
  },
  {
   "cell_type": "markdown",
   "metadata": {},
   "source": [
    "## Another model based approach collaborative filtering\n",
    "\n",
    "Another interesting (at least to me) algorithm seems to be CoClustering provided by surprise (https://surprise.readthedocs.io/en/stable/co_clustering.html#surprise.prediction_algorithms.co_clustering.CoClustering). Users and items are assigned some clusters. The clusters are generated similarly to k-means."
   ]
  },
  {
   "cell_type": "code",
   "execution_count": 7,
   "metadata": {},
   "outputs": [
    {
     "name": "stderr",
     "output_type": "stream",
     "text": [
      "C:\\Users\\mailb\\AppData\\Local\\Temp/ipykernel_18548/950404129.py:11: DeprecationWarning: `np.int` is a deprecated alias for the builtin `int`. To silence this warning, use `int` by itself. Doing this will not modify any behavior and is safe. When replacing `np.int`, you may wish to use e.g. `np.int64` or `np.int32` to specify the precision. If you wish to review your current use, check the release note link for additional information.\n",
      "Deprecated in NumPy 1.20; for more details and guidance: https://numpy.org/devdocs/release/1.20.0-notes.html#deprecations\n",
      "  algo.fit(trainset)\n"
     ]
    },
    {
     "name": "stdout",
     "output_type": "stream",
     "text": [
      "MSE: 0.8469\n",
      "MSE: 0.8352\n",
      "MSE: 0.8358\n",
      "MSE: 0.8340\n",
      "MSE: 0.8350\n",
      "Execution time: 101.9414484500885 seconds\n",
      "Mean mse: 0.8373902323341371\n"
     ]
    }
   ],
   "source": [
    "mse_results = []\n",
    "\n",
    "user_based = {'name': 'cosine',\n",
    "               'user_based': True} #defines if user-based filtering or items-based filtering should be used\n",
    "\n",
    "start_time = time.time()\n",
    "\n",
    "for (trainset, testset) in datasets:\n",
    "    algo = CoClustering(random_state=547998)\n",
    "\n",
    "    algo.fit(trainset)\n",
    "    predictions = algo.test(testset)\n",
    "\n",
    "    mse = accuracy.mse(predictions)\n",
    "    mse_results.append(mse)\n",
    "    \n",
    "print(\"Execution time: \" + str(time.time() - start_time) + \" seconds\")\n",
    "print(\"Mean mse: \" + str(statistics.mean(mse_results)))"
   ]
  },
  {
   "cell_type": "markdown",
   "metadata": {},
   "source": [
    "The mse values for this approach are slightly better than with the user based approach. However, the time to generate and test the model is a quarter compared to the time required with the item based approach and even approximately 1/9 of the time spent to process the user based approach. Even though the mse values are higher than with the items based approach, the considerably faster processing time makes this algorithm very efficient."
   ]
  }
 ],
 "metadata": {
  "interpreter": {
   "hash": "4a1b88e3678edff03f97290122ff407750b5b5411c51ff5b4cc02ea4deb84ddf"
  },
  "kernelspec": {
   "display_name": "Python 3 (ipykernel)",
   "language": "python",
   "name": "python3"
  },
  "language_info": {
   "codemirror_mode": {
    "name": "ipython",
    "version": 3
   },
   "file_extension": ".py",
   "mimetype": "text/x-python",
   "name": "python",
   "nbconvert_exporter": "python",
   "pygments_lexer": "ipython3",
   "version": "3.9.7"
  }
 },
 "nbformat": 4,
 "nbformat_minor": 2
}
